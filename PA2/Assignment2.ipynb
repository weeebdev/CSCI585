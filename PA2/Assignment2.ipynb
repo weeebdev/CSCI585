{
 "cells": [
  {
   "cell_type": "markdown",
   "metadata": {
    "colab_type": "text",
    "id": "u8z0lOpt3XDV"
   },
   "source": [
    "# Assignment 2\n",
    "\n",
    "In this assignment,we are going to implement the well-known Canny edge detector."
   ]
  },
  {
   "cell_type": "code",
   "execution_count": null,
   "metadata": {
    "colab": {},
    "colab_type": "code",
    "executionInfo": {
     "elapsed": 1605,
     "status": "ok",
     "timestamp": 1594571629058,
     "user": {
      "displayName": "Anh Tu Nguyen",
      "photoUrl": "",
      "userId": "05719326273869233574"
     },
     "user_tz": -360
    },
    "id": "4R5YF9gW3XDW"
   },
   "outputs": [],
   "source": [
    "from __future__ import print_function\n",
    "\n",
    "#Setup\n",
    "\n",
    "# The Random module might be used for pseudo-random number generators\n",
    "import random \n",
    "\n",
    "# Numpy plays important role in scientific computing with Python, especially for coding vision algorithms. \n",
    "# This package will be one of our most used libraries in this class. Make sure you spend enough time for practicing it.\n",
    "import numpy as np\n",
    "\n",
    "# This module is used to measure the execution time of code sections  \n",
    "from time import time\n",
    "\n",
    "#This module is used to read and write image in various formats\n",
    "from skimage import io\n",
    "\n",
    "#Imports all the methods in the file Canny.py\n",
    "from Canny import *\n",
    "\n",
    "#Matplotlib is a useful plotting library for python \n",
    "import matplotlib.pyplot as plt\n",
    "\n",
    "# This code is to make matplotlib figures appear inline in the\n",
    "# notebook rather than in a new window.\n",
    "%matplotlib inline\n",
    "plt.rcParams['figure.figsize'] = (20.0, 15.0) # set default size of plots\n",
    "plt.rcParams['image.interpolation'] = 'nearest'\n",
    "plt.rcParams['image.cmap'] = 'gray'\n",
    "\n",
    "# for auto-reloading extenrnal modules\n",
    "%load_ext autoreload\n",
    "%autoreload 2\n",
    "%reload_ext autoreload"
   ]
  },
  {
   "cell_type": "markdown",
   "metadata": {
    "colab_type": "text",
    "collapsed": true,
    "id": "JQQEeWTH3XDe"
   },
   "source": [
    "## Canny Edge Detector\n",
    "As described in the lecture 6, the Canny edge detection algorithm can be divided into four steps:\n",
    "1. Smoothing\n",
    "2. Computing image gradients\n",
    "3. Non-maximum suppression\n",
    "4. Hysterisis thresholding"
   ]
  },
  {
   "cell_type": "markdown",
   "metadata": {
    "colab_type": "text",
    "id": "dybGHcrW3XDf"
   },
   "source": [
    "### Step 1: Smoothing (1 point)\n",
    "\n",
    "We first smooth the input image by convolving it with a Gaussian kernel. The equation for a Gaussian kernel of size $(2k+1)\\times(2k+1)$ is given by:\n",
    "\n",
    "$$h_{ij}=\\frac{1}{2\\pi\\sigma^2}\\exp{\\Bigl(-\\frac{(i-k)^2+(j-k)^2}{2\\sigma^2}\\Bigr)}, 0\\leq i,j < 2k+1$$\n",
    "\n",
    "Implement **`gaussian_kernel`** in `Canny.py` and run the code below."
   ]
  },
  {
   "cell_type": "code",
   "execution_count": null,
   "metadata": {
    "colab": {},
    "colab_type": "code",
    "executionInfo": {
     "elapsed": 1366,
     "status": "ok",
     "timestamp": 1594571643538,
     "user": {
      "displayName": "Anh Tu Nguyen",
      "photoUrl": "",
      "userId": "05719326273869233574"
     },
     "user_tz": -360
    },
    "id": "IJHxF7DZ3XDg"
   },
   "outputs": [],
   "source": [
    "# Define 3x3 Gaussian kernel with std = 1\n",
    "kernel = gaussian_kernel(3, 1)\n",
    "kernel_test = np.array(\n",
    "    [[ 0.05854983, 0.09653235, 0.05854983],\n",
    "     [ 0.09653235, 0.15915494, 0.09653235],\n",
    "     [ 0.05854983, 0.09653235, 0.05854983]]\n",
    ")\n",
    "# Test Gaussian kernel\n",
    "if not np.allclose(kernel, kernel_test):\n",
    "    print('Incorrect values! Please check your implementation.')"
   ]
  },
  {
   "cell_type": "code",
   "execution_count": null,
   "metadata": {
    "colab": {
     "base_uri": "https://localhost:8080/",
     "height": 320
    },
    "colab_type": "code",
    "executionInfo": {
     "elapsed": 2881,
     "status": "ok",
     "timestamp": 1594571710697,
     "user": {
      "displayName": "Anh Tu Nguyen",
      "photoUrl": "",
      "userId": "05719326273869233574"
     },
     "user_tz": -360
    },
    "id": "M7Cbf7V83XDk",
    "outputId": "6ad359d5-c615-4db6-e08a-872ef0e4af26"
   },
   "outputs": [],
   "source": [
    "# Test with different kernel_size and sigma\n",
    "kernel_size = 5\n",
    "sigma = 1.4\n",
    "\n",
    "# Load image\n",
    "img = io.imread('iguana.png', as_gray=True)\n",
    "\n",
    "# Define 5x5 Gaussian kernel with std = sigma\n",
    "kernel = gaussian_kernel(kernel_size, sigma)\n",
    "\n",
    "# Convolve image with kernel to achieve smoothed effect\n",
    "smoothed = conv(img, kernel)\n",
    "\n",
    "plt.subplot(1,2,1)\n",
    "plt.imshow(img)\n",
    "plt.title('Original image')\n",
    "plt.axis('off')\n",
    "\n",
    "plt.subplot(1,2,2)\n",
    "plt.imshow(smoothed)\n",
    "plt.title('Smoothed image')\n",
    "plt.axis('off')\n",
    "\n",
    "plt.show()"
   ]
  },
  {
   "cell_type": "markdown",
   "metadata": {
    "colab_type": "text",
    "collapsed": true,
    "id": "Ovg4r4os3XDr"
   },
   "source": [
    "### Step 2: Computing image gradients (1.5 points)\n",
    "The gradient of a 2D scalar function $I:\\mathbb{R}^2\\rightarrow{\\mathbb{R}}$ in Cartesian coordinate is defined by:\n",
    "\n",
    "$$\\nabla{I(x,y)}=\\bigl[\\frac{\\partial{I}}{\\partial{x}},\\frac{\\partial{I}}{\\partial{y}}\\bigr],$$\n",
    "\n",
    "where\n",
    "\n",
    "$$\n",
    "\\frac{\\partial{I(x,y)}}{\\partial{x}}=\\lim_{\\Delta{x}\\to{0}}\\frac{I(x+\\Delta{x},y)-I(x,y)}{\\Delta{x}} \\\\\n",
    "\\frac{\\partial{I(x,y)}}{\\partial{y}}=\\lim_{\\Delta{y}\\to{0}}\\frac{I(x,y+\\Delta{y})-I(x,y)}{\\Delta{y}}.\n",
    "$$\n",
    "\n",
    "In case of images, we can approximate the partial derivatives by taking differences at one pixel intervals:\n",
    "\n",
    "$$\n",
    "\\frac{\\partial{I(x,y)}}{\\partial{x}}\\approx{\\frac{I(x+1,y)-I(x-1,y)}{2}} \\\\\n",
    "\\frac{\\partial{I(x,y)}}{\\partial{y}}\\approx{\\frac{I(x,y+1)-I(x,y-1)}{2}}\n",
    "$$\n",
    "\n",
    "Accordingly, the partial derivatives can be computed by convolving the image $I$ with two appropriate kernels: $D_x = \\begin{bmatrix} 0.5 & 0 & -0.5 \\end{bmatrix}$(row vector) and $D_y = \\begin{bmatrix} 0.5 \\\\ 0 \\\\ -0.5 \\end{bmatrix}$(column vector):\n",
    "\n",
    "$$\n",
    "\\frac{\\partial{I}}{\\partial{x}}\\approx{I*D_x}=G_x \\\\\n",
    "\\frac{\\partial{I}}{\\partial{y}}\\approx{I*D_y}=G_y\n",
    "$$"
   ]
  },
  {
   "cell_type": "markdown",
   "metadata": {
    "colab_type": "text",
    "id": "qVJI00sZ3XDr"
   },
   "source": [
    "(**1 point**) Implement **`partial_x`** and **`partial_y`** using `conv` defined in `Canny.py`.\n",
    "\n",
    "*-Hint: Remember that convolution flips the kernel.*"
   ]
  },
  {
   "cell_type": "code",
   "execution_count": null,
   "metadata": {
    "colab": {},
    "colab_type": "code",
    "executionInfo": {
     "elapsed": 769,
     "status": "ok",
     "timestamp": 1594571726915,
     "user": {
      "displayName": "Anh Tu Nguyen",
      "photoUrl": "",
      "userId": "05719326273869233574"
     },
     "user_tz": -360
    },
    "id": "qmC93B9Z3XDs"
   },
   "outputs": [],
   "source": [
    "# Test input\n",
    "I = np.array(\n",
    "    [[0, 0, 0],\n",
    "     [0, 1, 0],\n",
    "     [0, 0, 0]]\n",
    ")\n",
    "\n",
    "# Expected outputs\n",
    "I_x_test = np.array(\n",
    "    [[ 0, 0, 0],\n",
    "     [ 0.5, 0, -0.5],\n",
    "     [ 0, 0, 0]]\n",
    ")\n",
    "\n",
    "I_y_test = np.array(\n",
    "    [[ 0, 0.5, 0],\n",
    "     [ 0, 0, 0],\n",
    "     [ 0, -0.5, 0]]\n",
    ")\n",
    "\n",
    "# Compute partial derivatives\n",
    "I_x = partial_x(I)\n",
    "I_y = partial_y(I)\n",
    "\n",
    "# Test correctness of partial_x and partial_y\n",
    "if not np.all(I_x == I_x_test):\n",
    "    print('partial_x incorrect')\n",
    "    \n",
    "if not np.all(I_y == I_y_test):\n",
    "    print('partial_y incorrect')"
   ]
  },
  {
   "cell_type": "code",
   "execution_count": null,
   "metadata": {
    "colab": {
     "base_uri": "https://localhost:8080/",
     "height": 320
    },
    "colab_type": "code",
    "executionInfo": {
     "elapsed": 3314,
     "status": "ok",
     "timestamp": 1594571741942,
     "user": {
      "displayName": "Anh Tu Nguyen",
      "photoUrl": "",
      "userId": "05719326273869233574"
     },
     "user_tz": -360
    },
    "id": "tPOACRJh3XDw",
    "outputId": "d2415c16-f05f-4c1c-f891-6426ca1e3bf1"
   },
   "outputs": [],
   "source": [
    "# Compute partial derivatives of smoothed image\n",
    "Gx = partial_x(smoothed)\n",
    "Gy = partial_y(smoothed)\n",
    "\n",
    "plt.subplot(1,2,1)\n",
    "plt.imshow(Gx)\n",
    "plt.title('Derivative in x direction')\n",
    "plt.axis('off')\n",
    "\n",
    "plt.subplot(1,2,2)\n",
    "plt.imshow(Gy)\n",
    "plt.title('Derivative in y direction')\n",
    "plt.axis('off')\n",
    "\n",
    "plt.show()"
   ]
  },
  {
   "cell_type": "markdown",
   "metadata": {
    "colab_type": "text",
    "id": "yQwNZZhz3XD6"
   },
   "source": [
    "Now, we can compute the magnitude and direction of gradient with the two partial derivatives:\n",
    "\n",
    "$$\n",
    "G = \\sqrt{G_{x}^{2}+G_{y}^{2}} \\\\\n",
    "\\Theta = arctan\\bigl(\\frac{G_{y}}{G_{x}}\\bigr)\n",
    "$$\n",
    "\n",
    "(**1 point**) Implement **`gradient`** in `Canny.py` which takes in an image and outputs $G$ and $\\Theta$.\n",
    "\n",
    "*-Hint: Use np.arctan2 to compute $\\Theta$.*"
   ]
  },
  {
   "cell_type": "code",
   "execution_count": null,
   "metadata": {
    "colab": {
     "base_uri": "https://localhost:8080/",
     "height": 631
    },
    "colab_type": "code",
    "executionInfo": {
     "elapsed": 2861,
     "status": "ok",
     "timestamp": 1594571752605,
     "user": {
      "displayName": "Anh Tu Nguyen",
      "photoUrl": "",
      "userId": "05719326273869233574"
     },
     "user_tz": -360
    },
    "id": "EC4TW5323XD7",
    "outputId": "0125eb40-f01c-40e9-fbdb-a6abadcdf572"
   },
   "outputs": [],
   "source": [
    "G, theta = gradient(smoothed)\n",
    "\n",
    "if not np.all(G >= 0):\n",
    "    print('Magnitude of gradients should be non-negative.')\n",
    "    \n",
    "if not np.all((theta >= 0) * (theta < 360)):\n",
    "    print('Direction of gradients should be in range 0 <= theta < 360')\n",
    "\n",
    "plt.imshow(G)\n",
    "plt.title('Gradient magnitude')\n",
    "plt.axis('off')\n",
    "plt.show()"
   ]
  },
  {
   "cell_type": "markdown",
   "metadata": {
    "colab_type": "text",
    "id": "Ok-fYJCl3XD_"
   },
   "source": [
    "### Step 3: Non-maximum suppression (1.5 points)\n",
    "As explained in the lecture, the edges extracted from the gradient of the smoothed image are quite thick and blurry. The purpose of this step is to convert the \"blurred\" edges into \"sharp\" edges. Basically, this is done by preserving all local maxima in the gradient image and discarding everything else. The algorithm is for each pixel (x,y) in the gradient image:\n",
    "1. Round the gradient direction $\\Theta[y,x]$ to the nearest 45 degrees, corresponding to the use of an 8-connected neighborhood.\n",
    "\n",
    "2. Compare the edge strength of the current pixel with the edge strength of the pixel in the positive and negative gradient directions. For example, if the gradient direction is south (theta=90), compare with the pixels to the north and south. Note that, if the current pixel is at the image boundary, we just set it to zeros because one of its two neighbors might be outside the image.\n",
    "\n",
    "3. If the edge strength of the current pixel is the largest (i.e., G(pixel) $\\geqslant$ G(positive neighbor) and G(pixel) $\\geqslant$ G(negative neighbor), where G is the gradient magnitude of image); preserve the value of the edge strength. If not, suppress (i.e. remove) the value.\n",
    "\n",
    "Implement **`non_maximum_suppression`** in `Canny.py`\n",
    "\n",
    "I provide the correct output and the difference between it and your result for debugging purposes. If you see white spots in the Difference image, you should check your implementation."
   ]
  },
  {
   "cell_type": "code",
   "execution_count": null,
   "metadata": {
    "colab": {
     "base_uri": "https://localhost:8080/",
     "height": 289
    },
    "colab_type": "code",
    "executionInfo": {
     "elapsed": 740,
     "status": "ok",
     "timestamp": 1594571770642,
     "user": {
      "displayName": "Anh Tu Nguyen",
      "photoUrl": "",
      "userId": "05719326273869233574"
     },
     "user_tz": -360
    },
    "id": "05baUq_E3XD_",
    "outputId": "d783915d-dd8a-4644-9d31-85b9971d19f3"
   },
   "outputs": [],
   "source": [
    "# Test synthetic input\n",
    "g = np.array(\n",
    "    [[0.4, 0.5, 0.6],\n",
    "     [0.3, 0.5, 0.7],\n",
    "     [0.4, 0.5, 0.6]]\n",
    ")\n",
    "# Print out non-maximum suppressed output\n",
    "# varying theta\n",
    "for angle in range(0, 180, 45):\n",
    "    print('Thetas:', angle)\n",
    "    t = np.ones((3, 3)) * angle # Initialize theta\n",
    "    print(non_maximum_suppression(g, t))"
   ]
  },
  {
   "cell_type": "code",
   "execution_count": null,
   "metadata": {
    "colab": {
     "base_uri": "https://localhost:8080/",
     "height": 886
    },
    "colab_type": "code",
    "executionInfo": {
     "elapsed": 4133,
     "status": "ok",
     "timestamp": 1594575018647,
     "user": {
      "displayName": "Anh Tu Nguyen",
      "photoUrl": "",
      "userId": "05719326273869233574"
     },
     "user_tz": -360
    },
    "id": "uilL0c1h3XED",
    "outputId": "f2718001-25cf-4ae4-d6c9-568d184eed0a"
   },
   "outputs": [],
   "source": [
    "nms = non_maximum_suppression(G, theta)\n",
    "plt.imshow(nms)\n",
    "plt.title('Non-maximum suppressed')\n",
    "plt.axis('off')\n",
    "plt.show()\n",
    "\n",
    "plt.subplot(1, 3, 1)\n",
    "plt.imshow(nms)\n",
    "plt.axis('off')\n",
    "plt.title('Your result')\n",
    "\n",
    "plt.subplot(1, 3, 2)\n",
    "reference = np.load('references/iguana_non_max_suppressed.npy')\n",
    "plt.imshow(reference)\n",
    "plt.axis('off')\n",
    "plt.title('Reference')\n",
    "\n",
    "plt.subplot(1, 3, 3)\n",
    "plt.imshow(abs(nms - reference))\n",
    "plt.title('Difference')\n",
    "plt.axis('off')\n",
    "plt.show()"
   ]
  },
  {
   "cell_type": "markdown",
   "metadata": {
    "colab_type": "text",
    "id": "qYI0jmPg3XEG"
   },
   "source": [
    "### Step 4: Hysterisis thresholding (1 point)\n",
    "\n",
    "The edge-pixels remaining after the non-maximum suppression step are (still) marked with their strength pixel-by-pixel. Many of these will probably be true edges in the image, but some may be caused by noise or color variations, for instance, due to rough surfaces. The simplest way to discern between these would be to use a threshold, so that only edges stronger than a certain value would be preserved. The Canny edge detection algorithm uses double thresholding. Edge pixels stronger than the high threshold are marked as strong; edge pixels weaker than the low threshold are suppressed and edge pixels between the two thresholds are marked as weak."
   ]
  },
  {
   "cell_type": "code",
   "execution_count": null,
   "metadata": {
    "colab": {
     "base_uri": "https://localhost:8080/",
     "height": 336
    },
    "colab_type": "code",
    "executionInfo": {
     "elapsed": 1491,
     "status": "ok",
     "timestamp": 1594575270622,
     "user": {
      "displayName": "Anh Tu Nguyen",
      "photoUrl": "",
      "userId": "05719326273869233574"
     },
     "user_tz": -360
    },
    "id": "fyuKVBZZ3XEG",
    "outputId": "826e44e5-2e82-4e8f-bce9-624c52414837"
   },
   "outputs": [],
   "source": [
    "low_threshold = 0.02\n",
    "high_threshold = 0.03\n",
    "\n",
    "# function double_thresholding() has been implemented in Canny.py file\n",
    "strong_edges, weak_edges = double_thresholding(nms, high_threshold, low_threshold)\n",
    "assert(np.sum(strong_edges & weak_edges) == 0)\n",
    "\n",
    "edges=strong_edges * 1.0 + weak_edges * 0.5\n",
    "\n",
    "plt.subplot(1,2,1)\n",
    "plt.imshow(strong_edges)\n",
    "plt.title('Strong Edges')\n",
    "plt.axis('off')\n",
    "\n",
    "plt.subplot(1,2,2)\n",
    "plt.imshow(edges)\n",
    "plt.title('Strong+Weak Edges')\n",
    "plt.axis('off')\n",
    "\n",
    "plt.show()"
   ]
  },
  {
   "cell_type": "markdown",
   "metadata": {},
   "source": [
    "#### Linking edges \n",
    "\n",
    "Strong edges are interpreted as “certain edges”, and can immediately be included in the final edge image. Weak edges are included if and only if they are connected to strong edges. The logic is of course that noise and other small variations are unlikely to result in a strong edge (with proper adjustment of the threshold levels). Thus strong edges will (almost) only be due to true edges in the original image. The weak edges can either be due to true edges or noise/color variations. The latter type will probably be distributed independently of edges on the entire image, and thus only a small amount will be located adjacent to strong edges. Weak edges due to true edges are much more likely to be connected directly to strong edges.\n",
    "\n",
    "Implement **`link_edges`** in `Canny.py`. This task is relatively challenging because you might need to run breadth-first search algorithm to mark the potential edges as true edges. Hence, if the you can implement **`link_edges`** successfully, you will get extra point."
   ]
  },
  {
   "cell_type": "code",
   "execution_count": null,
   "metadata": {
    "colab": {
     "base_uri": "https://localhost:8080/",
     "height": 310
    },
    "colab_type": "code",
    "executionInfo": {
     "elapsed": 1427,
     "status": "ok",
     "timestamp": 1594578342768,
     "user": {
      "displayName": "Anh Tu Nguyen",
      "photoUrl": "",
      "userId": "05719326273869233574"
     },
     "user_tz": -360
    },
    "id": "kcSLFLkG3XEL",
    "outputId": "06009a1c-d3ac-4b09-f854-54a8641e1406"
   },
   "outputs": [],
   "source": [
    "test_strong = np.array(\n",
    "    [[1, 0, 0, 0],\n",
    "     [0, 0, 0, 0],\n",
    "     [0, 0, 0, 0],\n",
    "     [0, 0, 0, 1]]\n",
    ")\n",
    "\n",
    "test_weak = np.array(\n",
    "    [[0, 0, 0, 1],\n",
    "     [0, 1, 0, 0],\n",
    "     [1, 0, 0, 0],\n",
    "     [0, 0, 1, 0]]\n",
    ")\n",
    "\n",
    "test_linked = link_edges(test_strong, test_weak)\n",
    "\n",
    "plt.subplot(1, 3, 1)\n",
    "plt.imshow(test_strong)\n",
    "plt.title('Strong edges')\n",
    "\n",
    "plt.subplot(1, 3, 2)\n",
    "plt.imshow(test_weak)\n",
    "plt.title('Weak edges')\n",
    "\n",
    "plt.subplot(1, 3, 3)\n",
    "plt.imshow(test_linked)\n",
    "plt.title('Linked edges')\n",
    "plt.show()"
   ]
  },
  {
   "cell_type": "markdown",
   "metadata": {},
   "source": [
    "Now, let's test on the real strong_edges and weak_edges to get the final output. I provide the correct output and the difference between it and your result for debugging purposes."
   ]
  },
  {
   "cell_type": "code",
   "execution_count": null,
   "metadata": {
    "colab": {
     "base_uri": "https://localhost:8080/",
     "height": 874
    },
    "colab_type": "code",
    "executionInfo": {
     "elapsed": 1856,
     "status": "ok",
     "timestamp": 1594578350463,
     "user": {
      "displayName": "Anh Tu Nguyen",
      "photoUrl": "",
      "userId": "05719326273869233574"
     },
     "user_tz": -360
    },
    "id": "TrWFX1to3XEO",
    "outputId": "f1d57308-ddf3-42cd-da88-deeb8bd99424"
   },
   "outputs": [],
   "source": [
    "edges = link_edges(strong_edges, weak_edges)\n",
    "\n",
    "plt.imshow(edges)\n",
    "plt.axis('off')\n",
    "plt.show()\n",
    "\n",
    "plt.subplot(1, 3, 1)\n",
    "plt.imshow(edges)\n",
    "plt.axis('off')\n",
    "plt.title('Your result')\n",
    "\n",
    "plt.subplot(1, 3, 2)\n",
    "reference = np.load('references/iguana_edge_tracking_ref.npy')\n",
    "plt.imshow(reference)\n",
    "plt.axis('off')\n",
    "plt.title('Reference')\n",
    "\n",
    "plt.subplot(1, 3, 3)\n",
    "plt.imshow(edges ^ reference)\n",
    "plt.title('Difference')\n",
    "plt.axis('off')\n",
    "plt.show()"
   ]
  },
  {
   "cell_type": "markdown",
   "metadata": {
    "colab": {},
    "colab_type": "code",
    "id": "Mk_rGlZ-3XE3"
   },
   "source": [
    "Implement **`canny_detector`** in `Canny.py` using the functions you have implemented so far. You can try to test edge detector with different parameters (i.e., sigma, high theshold, and low threshold)."
   ]
  },
  {
   "cell_type": "code",
   "execution_count": null,
   "metadata": {},
   "outputs": [],
   "source": [
    "# Load image\n",
    "img = io.imread('iguana.png', as_gray=True)\n",
    "\n",
    "# Run Canny edge detector\n",
    "edges = canny_detector(img, kernel_size=5, sigma=1.4, high=0.03, low=0.02)\n",
    "print (edges.shape)\n",
    "\n",
    "plt.subplot(1, 3, 1)\n",
    "plt.imshow(edges)\n",
    "plt.axis('off')\n",
    "plt.title('Your result')"
   ]
  }
 ],
 "metadata": {
  "colab": {
   "collapsed_sections": [],
   "name": "hw2.ipynb",
   "provenance": [],
   "toc_visible": true
  },
  "kernelspec": {
   "display_name": "Python 3",
   "language": "python",
   "name": "python3"
  },
  "language_info": {
   "codemirror_mode": {
    "name": "ipython",
    "version": 3
   },
   "file_extension": ".py",
   "mimetype": "text/x-python",
   "name": "python",
   "nbconvert_exporter": "python",
   "pygments_lexer": "ipython3",
   "version": "3.7.4"
  }
 },
 "nbformat": 4,
 "nbformat_minor": 1
}
