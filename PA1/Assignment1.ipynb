{
 "cells": [
  {
   "cell_type": "markdown",
   "metadata": {
    "colab_type": "text",
    "id": "KBl4WoPpmx31"
   },
   "source": [
    "# Assignment 1\n",
    "In this assignment, we will go through basic linear algebra, image manipulation, and convolution using python. In some functions you will implement, you might need to look up helper functions which are available online. Remember that you are limited to use only the given libraries (e.g., numpy, random, time, matplotlib, and skimage)."
   ]
  },
  {
   "cell_type": "code",
   "execution_count": null,
   "metadata": {
    "colab": {},
    "colab_type": "code",
    "id": "mtLQpeIsmx32"
   },
   "outputs": [],
   "source": [
    "from __future__ import print_function\n",
    "\n",
    "#Setup\n",
    "\n",
    "# The Random module might be used for pseudo-random number generators\n",
    "import random \n",
    "\n",
    "# Numpy plays important role in scientific computing with Python, especially for coding vision algorithms. \n",
    "# This package will be one of our most used libraries in this class. Make sure you spend enough time for practicing it.\n",
    "import numpy as np\n",
    "\n",
    "# This module is used to measure the execution time of code sections  \n",
    "from time import time\n",
    "\n",
    "#This module is used to read and write image in various formats\n",
    "from skimage import io\n",
    "\n",
    "#Imports all the methods in each of the files: linear_algebra.py, image_manipulation.py, and convolution.py\n",
    "from linear_algebra import *\n",
    "from image_manipulation import *\n",
    "from convolution import *\n",
    "\n",
    "#Matplotlib is a useful plotting library for python \n",
    "import matplotlib.pyplot as plt\n",
    "\n",
    "# This code is to make matplotlib figures appear inline in the\n",
    "# notebook rather than in a new window.\n",
    "%matplotlib inline\n",
    "plt.rcParams['figure.figsize'] = (10.0, 8.0) # set default size of plots\n",
    "plt.rcParams['image.interpolation'] = 'nearest'\n",
    "plt.rcParams['image.cmap'] = 'gray'\n",
    "\n",
    "# for auto-reloading extenrnal modules\n",
    "%load_ext autoreload\n",
    "%autoreload 2\n",
    "%reload_ext autoreload"
   ]
  },
  {
   "cell_type": "markdown",
   "metadata": {
    "colab_type": "text",
    "collapsed": true,
    "id": "HHjOen-Cmx36"
   },
   "source": [
    "# Part 1: Linear Algebra Recap\n",
    "Implement all the required functions in linear_algebra.py."
   ]
  },
  {
   "cell_type": "markdown",
   "metadata": {
    "colab_type": "text",
    "id": "Moo-88aHmx36"
   },
   "source": [
    "## Question 1.1 (0.25 point)\n",
    "This question is to test whether you can define the following matrices and vectors using numpy. Look up `np.array()` for help. Then, define M as a (4,3) matrix, a as a (1,3) row vector, and b and c as (3,1) column vectors, respectively:\n",
    "$$M = \\begin{bmatrix}\n",
    "0 & 1 & 2 \\\\\n",
    "3 & 4 & 5 \\\\\n",
    "6 & 7 & 8 \\\\\n",
    "9 & 10 & 11 \\end{bmatrix}\n",
    "$$\n",
    "\n",
    "$$a = \\begin{bmatrix}\n",
    "1 & 1 & 0\n",
    "\\end{bmatrix}\n",
    "$$\n",
    "\n",
    "$$b = \\begin{bmatrix}\n",
    "-1 \\\\ 2 \\\\ 5\n",
    "\\end{bmatrix}  \n",
    "$$ \n",
    "\n",
    "$$c = \\begin{bmatrix}\n",
    "2 \\\\ 2 \\\\ 0\n",
    "\\end{bmatrix}  \n",
    "$$ "
   ]
  },
  {
   "cell_type": "code",
   "execution_count": null,
   "metadata": {
    "colab": {},
    "colab_type": "code",
    "id": "vA8uAQT9mx37",
    "outputId": "95184d7e-49f6-4c0e-dd55-9321aea01412",
    "scrolled": true
   },
   "outputs": [],
   "source": [
    "#####################################\n",
    "#       START YOUR CODE HERE        #\n",
    "#####################################\n",
    "\n",
    "pass\n",
    "\n",
    "######################################\n",
    "#        END OF YOUR CODE            #\n",
    "######################################\n",
    "## make sure when you check the size of M, a, b, c with the syntax array.shape, \n",
    "## they should return (4,3), (1,3), (3,1), and (3,1), respectively.\n",
    "print(\"M = \\n\", M)\n",
    "print(\"a = \", a)\n",
    "print(\"b = \", b)\n",
    "print(\"c = \", c)"
   ]
  },
  {
   "cell_type": "markdown",
   "metadata": {
    "colab_type": "text",
    "id": "dqKhkgOFmx3-"
   },
   "source": [
    "## Question 1.2 (0.25 point)\n",
    "Implement **`dot_product`** function in **`linear_algebra.py`** and verify that it returns the correct answer for $b^Tc$."
   ]
  },
  {
   "cell_type": "code",
   "execution_count": null,
   "metadata": {
    "colab": {},
    "colab_type": "code",
    "id": "RjbrxXcMmx3_",
    "outputId": "a622239b-54a6-4cea-fa9a-88cd8b0b6804",
    "scrolled": true
   },
   "outputs": [],
   "source": [
    "# Now, let's test out this dot product. Your answer should be 2.\n",
    "resDot = dot_product(b, c)\n",
    "print (resDot)"
   ]
  },
  {
   "cell_type": "markdown",
   "metadata": {
    "colab_type": "text",
    "id": "IbFjPwqWmx4B"
   },
   "source": [
    "## Question 1.3 (0.25 point)\n",
    "Implement **`matrix_mult`** function in **`linear_algebra.py`** and use it to compute $(b^T c)Ma^T$\n",
    "\n",
    "NOTE: **`matrix_mult`** function expects all inputs to be two dimensional numpy arrays, as opposed to 1-D arrays. This is an important distinction, because 2-D arrays can be transposed, while transpose has no effect on 1-D arrays. Look up `np.dot()` for help\n",
    "\n",
    "To transpose a 2-D array, you can use the syntax array.T"
   ]
  },
  {
   "cell_type": "code",
   "execution_count": null,
   "metadata": {
    "colab": {},
    "colab_type": "code",
    "id": "1cd4o5zQmx4C",
    "outputId": "cca5d8a0-aa7f-4148-af76-3781f1c58e97",
    "scrolled": true
   },
   "outputs": [],
   "source": [
    "# Your answer should be $[[2], [14], [26], [38]]$ of shape(4, 1).\n",
    "resMult = matrix_mult(M, a, b, c)\n",
    "print (resMult)\n",
    "print()\n",
    "print(\"The size is: \", resMult.shape)"
   ]
  },
  {
   "cell_type": "markdown",
   "metadata": {
    "colab_type": "text",
    "id": "AWiTkLv8mx4E"
   },
   "source": [
    "## Question 1.4 (0.25 point)\n",
    "Implement **`svd`** and **`get_singular_values`** functions in **`linear_algebra.py`**. In this question, we perform singular value decomposition on the input matrix M and return the largest n singular values (n specified in the method calls below). Look up for linear algebra functions in `np.linalg` for help."
   ]
  },
  {
   "cell_type": "code",
   "execution_count": null,
   "metadata": {
    "colab": {},
    "colab_type": "code",
    "id": "4y3iBp_6mx4F",
    "outputId": "b0ce3323-9526-464b-ec6e-d4d8d6e14b07"
   },
   "outputs": [],
   "source": [
    "print(get_singular_values(M, 1))\n",
    "print(get_singular_values(M, 2))"
   ]
  },
  {
   "cell_type": "markdown",
   "metadata": {
    "colab_type": "text",
    "id": "RQ8QtEmAmx4M"
   },
   "source": [
    "# Part 2: Image Manipulation "
   ]
  },
  {
   "cell_type": "code",
   "execution_count": null,
   "metadata": {
    "colab": {},
    "colab_type": "code",
    "id": "Xm_vzD-Kmx4N"
   },
   "outputs": [],
   "source": [
    "image1_path = './Astana.jpg'\n",
    "image2_path = './KhanShatyr.jpg'"
   ]
  },
  {
   "cell_type": "markdown",
   "metadata": {
    "colab_type": "text",
    "id": "pyIBC__pmx4Q"
   },
   "source": [
    "## Question 2.1 (0.25 point)\n",
    "Implement **`load`** function in **`image_manipulation.py`** and read `display` function below. "
   ]
  },
  {
   "cell_type": "code",
   "execution_count": null,
   "metadata": {
    "colab": {},
    "colab_type": "code",
    "id": "zRX09Dpgmx4Q"
   },
   "outputs": [],
   "source": [
    "def display(img):\n",
    "    # Show image\n",
    "    plt.imshow(img)\n",
    "    plt.axis('off')\n",
    "    plt.show()"
   ]
  },
  {
   "cell_type": "code",
   "execution_count": null,
   "metadata": {
    "colab": {},
    "colab_type": "code",
    "id": "rKUknGXhmx4T",
    "outputId": "157d333c-82c0-419f-f5ae-a8d006cbf5d7"
   },
   "outputs": [],
   "source": [
    "image1 = load(image1_path)\n",
    "image2 = load(image2_path)\n",
    "\n",
    "display(image1)\n",
    "display(image2)"
   ]
  },
  {
   "cell_type": "markdown",
   "metadata": {
    "colab_type": "text",
    "id": "84JmAt6Vmx4V"
   },
   "source": [
    "## Question 2.2 (0.5 point)\n",
    "Implement **`change_value`** function in **`image_manipulation.py`** by converting images according to  $x_n = 0.5*x_p^2$ for every pixel, where $x_n$ is the new value and $x_p$ is the original value. Hint: you might need to first normalize the input image (divide it by 255) to convert the RGB data into the range [0..1] for floats. The resulting image should look darker."
   ]
  },
  {
   "cell_type": "code",
   "execution_count": null,
   "metadata": {
    "colab": {},
    "colab_type": "code",
    "id": "83oJIBghmx4W",
    "outputId": "af6075d2-baa3-4608-816f-e00d3f01911d"
   },
   "outputs": [],
   "source": [
    "new_image = change_value(image1)\n",
    "display(new_image)"
   ]
  },
  {
   "cell_type": "markdown",
   "metadata": {
    "colab_type": "text",
    "id": "rKQA3pIzmx4Y"
   },
   "source": [
    "## Question 2.3 (0.25 points)\n",
    "Implement **`convert_to_grey_scale`** function in **`image_manipulation.py`** and convert the image into grey scale."
   ]
  },
  {
   "cell_type": "code",
   "execution_count": null,
   "metadata": {
    "colab": {},
    "colab_type": "code",
    "id": "By8hVw5Tmx4Z",
    "outputId": "4bb60310-0667-4a3a-bf7c-32d13c8831a4"
   },
   "outputs": [],
   "source": [
    "grey_image = convert_to_grey_scale(image1)\n",
    "display(grey_image)"
   ]
  },
  {
   "cell_type": "markdown",
   "metadata": {},
   "source": [
    "## Question 2.4 (0.5 points)\n",
    "Implement the rgb_decomposition, in which the input image is decomposed into the three channels: R, G and B and return the image including only the specified channel."
   ]
  },
  {
   "cell_type": "code",
   "execution_count": null,
   "metadata": {},
   "outputs": [],
   "source": [
    "red = rgb_decomposition(image1, 'R')\n",
    "blue = rgb_decomposition(image1, 'B')\n",
    "green = rgb_decomposition(image1, 'G')\n",
    "\n",
    "display(red)\n",
    "display(blue)\n",
    "display(green)"
   ]
  },
  {
   "cell_type": "markdown",
   "metadata": {},
   "source": [
    "## Question 2.5 (0.5 points)\n",
    "In mix_images method, create a new image such that the left half of the image is the left half of image1 and the right half of the image is the right half of image2. If the channels are specified, include the specified channel for the given image."
   ]
  },
  {
   "cell_type": "code",
   "execution_count": null,
   "metadata": {},
   "outputs": [],
   "source": [
    "image_mixed = mix_images(image1, image2, channel1='R', channel2='G')\n",
    "display(image_mixed)"
   ]
  },
  {
   "cell_type": "markdown",
   "metadata": {},
   "source": [
    "# Part 3: Convolution\n",
    "In this part, you will implement two versions of convolution:\n",
    "- `conv_naive`\n",
    "- `conv_fast`\n",
    "\n",
    "First, run the code cell below to load the image to work with."
   ]
  },
  {
   "cell_type": "code",
   "execution_count": null,
   "metadata": {},
   "outputs": [],
   "source": [
    "# Open image as grayscale\n",
    "img = io.imread('dog.jpg', as_gray=True)\n",
    "\n",
    "# Show image\n",
    "plt.imshow(img)\n",
    "plt.axis('off')\n",
    "plt.show()"
   ]
  },
  {
   "cell_type": "markdown",
   "metadata": {},
   "source": [
    "## Question 3.1 (1 point)\n",
    "Now, implement the function **`conv_naive`** in **`convolution.py`**. This is a naive implementation of convolution which uses 4 nested for-loops. It takes an image $f$ and a kernel $h$ as inputs and outputs the convolved image $(f*h)$ that has the same shape as the input image. This implementation should take a few seconds to run.\n",
    "\n",
    "We'll first test your **`conv_naive`** function on a simple input."
   ]
  },
  {
   "cell_type": "code",
   "execution_count": null,
   "metadata": {},
   "outputs": [],
   "source": [
    "# Simple convolution kernel.\n",
    "kernel = np.array(\n",
    "[\n",
    "    [1,0,1],\n",
    "    [0,0,0],\n",
    "    [1,0,1]\n",
    "])\n",
    "\n",
    "# Create a test image: a white square in the middle\n",
    "test_img = np.zeros((9, 9))\n",
    "test_img[3:6, 3:6] = 1\n",
    "\n",
    "# Run your conv_naive function on the test image\n",
    "test_output = conv_naive(test_img, kernel)\n",
    "\n",
    "# Build the expected output\n",
    "expected_output = np.zeros((9, 9))\n",
    "expected_output[2:7, 2:7] = 1\n",
    "expected_output[4, 2:7] = 2\n",
    "expected_output[2:7, 4] = 2\n",
    "expected_output[4, 4] = 4\n",
    "\n",
    "# Plot the test image\n",
    "plt.subplot(1,3,1)\n",
    "plt.imshow(test_img)\n",
    "plt.title('Test image')\n",
    "plt.axis('off')\n",
    "\n",
    "# Plot your convolved image\n",
    "plt.subplot(1,3,2)\n",
    "plt.imshow(test_output)\n",
    "plt.title('Convolution')\n",
    "plt.axis('off')\n",
    "\n",
    "# Plot the exepected output\n",
    "plt.subplot(1,3,3)\n",
    "plt.imshow(expected_output)\n",
    "plt.title('Exepected output')\n",
    "plt.axis('off')\n",
    "plt.show()\n",
    "\n",
    "# Test if the output matches expected output\n",
    "assert np.max(abs(test_output - expected_output)) < 1e-10, \"Your solution is not correct.\""
   ]
  },
  {
   "cell_type": "markdown",
   "metadata": {},
   "source": [
    "Now let's test your **`conv_naive`** function on a real image."
   ]
  },
  {
   "cell_type": "code",
   "execution_count": null,
   "metadata": {},
   "outputs": [],
   "source": [
    "# Simple convolution kernel.\n",
    "# Feel free to change the kernel and to see different outputs.\n",
    "kernel = np.array(\n",
    "[\n",
    "    [1,0,-1],\n",
    "    [2,0,-2],\n",
    "    [1,0,-1]\n",
    "])\n",
    "\n",
    "out = conv_naive(img, kernel)\n",
    "\n",
    "# Plot original image\n",
    "plt.subplot(2,2,1)\n",
    "plt.imshow(img)\n",
    "plt.title('Original')\n",
    "plt.axis('off')\n",
    "\n",
    "# Plot your convolved image\n",
    "plt.subplot(2,2,3)\n",
    "plt.imshow(out)\n",
    "plt.title('Your convolved image')\n",
    "plt.axis('off')\n",
    "\n",
    "# Plot what you should get\n",
    "solution_img = io.imread('convoluted_dog.jpg', as_gray=True)\n",
    "plt.subplot(2,2,4)\n",
    "plt.imshow(solution_img)\n",
    "plt.title('Expected output')\n",
    "plt.axis('off')\n",
    "\n",
    "\n",
    "plt.show()"
   ]
  },
  {
   "cell_type": "markdown",
   "metadata": {},
   "source": [
    "## Question 3.2 (1 points)\n",
    "In the next task, we will implement a faster version of convolution using array operations in numpy. As shown in the lecture, a convolution can be performed by using a sliding window or a mask that computes sum of the pixel values weighted by the flipped kernel. The faster version will consist of three steps: i) zero-pad an image, ii) flip the kernel horizontally and vertically, and iii) compute weighted sum of the neighborhood at each pixel.\n",
    "\n",
    "First, implement the function **`zero_pad`** in **`convolution.py`**."
   ]
  },
  {
   "cell_type": "code",
   "execution_count": null,
   "metadata": {},
   "outputs": [],
   "source": [
    "pad_width = 20 # width of the padding on the left and right\n",
    "pad_height = 40 # height of the padding on the top and bottom\n",
    "\n",
    "padded_img = zero_pad(img, pad_height, pad_width)\n",
    "\n",
    "# Plot your padded dog\n",
    "plt.subplot(1,2,1)\n",
    "plt.imshow(padded_img)\n",
    "plt.title('Padded dog')\n",
    "plt.axis('off')\n",
    "\n",
    "# Plot what you should get\n",
    "solution_img = io.imread('padded_dog.jpg', as_gray=True)\n",
    "plt.subplot(1,2,2)\n",
    "plt.imshow(solution_img)\n",
    "plt.title('Your expected output')\n",
    "plt.axis('off')\n",
    "\n",
    "plt.show()"
   ]
  },
  {
   "cell_type": "markdown",
   "metadata": {},
   "source": [
    "Next, complete the function **`conv_fast`** in **`convolution.py`** using **`zero_pad`**. Run the code below to compare the outputs by the two implementations, i.e., `conv_fast` and `conv_naive`. Notably, **`conv_fast`** should run significantly faster than **`conv_naive`**.  \n",
    "Depending on your implementation and computer, **`conv_naive`** should take a few seconds and **`conv_fast`** should be around 5 times faster."
   ]
  },
  {
   "cell_type": "code",
   "execution_count": null,
   "metadata": {},
   "outputs": [],
   "source": [
    "t0 = time()\n",
    "out_fast = conv_fast(img, kernel)\n",
    "t1 = time()\n",
    "out_naive = conv_naive(img, kernel)\n",
    "t2 = time()\n",
    "\n",
    "# Compare the running time of the two implementations\n",
    "print(\"conv_naive: took %f seconds.\" % (t2 - t1))\n",
    "print(\"conv_fast: took %f seconds.\" % (t1 - t0))\n",
    "\n",
    "# Plot conv_naive output\n",
    "plt.subplot(1,2,1)\n",
    "plt.imshow(out_naive)\n",
    "plt.title('conv_naive')\n",
    "plt.axis('off')\n",
    "\n",
    "# Plot conv_fast output\n",
    "plt.subplot(1,2,2)\n",
    "plt.imshow(out_fast)\n",
    "plt.title('conv_fast')\n",
    "plt.axis('off')\n",
    "\n",
    "# Make sure that the two outputs are the same\n",
    "if not (np.max(out_fast - out_naive) < 1e-10):\n",
    "    print(\"Different outputs! Check your implementation.\")"
   ]
  },
  {
   "cell_type": "code",
   "execution_count": null,
   "metadata": {},
   "outputs": [],
   "source": []
  },
  {
   "cell_type": "code",
   "execution_count": null,
   "metadata": {},
   "outputs": [],
   "source": []
  },
  {
   "cell_type": "code",
   "execution_count": null,
   "metadata": {},
   "outputs": [],
   "source": []
  }
 ],
 "metadata": {
  "colab": {
   "name": "hw0.ipynb",
   "provenance": []
  },
  "kernelspec": {
   "display_name": "Python 3",
   "language": "python",
   "name": "python3"
  },
  "language_info": {
   "codemirror_mode": {
    "name": "ipython",
    "version": 3
   },
   "file_extension": ".py",
   "mimetype": "text/x-python",
   "name": "python",
   "nbconvert_exporter": "python",
   "pygments_lexer": "ipython3",
   "version": "3.7.4"
  }
 },
 "nbformat": 4,
 "nbformat_minor": 1
}
